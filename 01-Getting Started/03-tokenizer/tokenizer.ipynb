{
 "cells": [
  {
   "attachments": {},
   "cell_type": "markdown",
   "metadata": {},
   "source": [
    "# Tokenizer 基本使用"
   ]
  },
  {
   "cell_type": "code",
   "execution_count": 2,
   "metadata": {},
   "outputs": [],
   "source": [
    "from transformers import AutoTokenizer"
   ]
  },
  {
   "cell_type": "code",
   "execution_count": 3,
   "metadata": {},
   "outputs": [],
   "source": [
    "sen = \"弱小的我也有大梦想!\""
   ]
  },
  {
   "attachments": {},
   "cell_type": "markdown",
   "metadata": {},
   "source": [
    "## Step1 加载与保存"
   ]
  },
  {
   "cell_type": "code",
   "execution_count": 4,
   "metadata": {},
   "outputs": [
    {
     "data": {
      "text/plain": "BertTokenizerFast(name_or_path='uer/roberta-base-finetuned-dianping-chinese', vocab_size=21128, model_max_length=1000000000000000019884624838656, is_fast=True, padding_side='right', truncation_side='right', special_tokens={'unk_token': '[UNK]', 'sep_token': '[SEP]', 'pad_token': '[PAD]', 'cls_token': '[CLS]', 'mask_token': '[MASK]'}, clean_up_tokenization_spaces=True, added_tokens_decoder={\n\t0: AddedToken(\"[PAD]\", rstrip=False, lstrip=False, single_word=False, normalized=False, special=True),\n\t100: AddedToken(\"[UNK]\", rstrip=False, lstrip=False, single_word=False, normalized=False, special=True),\n\t101: AddedToken(\"[CLS]\", rstrip=False, lstrip=False, single_word=False, normalized=False, special=True),\n\t102: AddedToken(\"[SEP]\", rstrip=False, lstrip=False, single_word=False, normalized=False, special=True),\n\t103: AddedToken(\"[MASK]\", rstrip=False, lstrip=False, single_word=False, normalized=False, special=True),\n}\n)"
     },
     "execution_count": 4,
     "metadata": {},
     "output_type": "execute_result"
    }
   ],
   "source": [
    "# 从HuggingFace加载，输入模型名称，即可加载对于的分词器\n",
    "tokenizer = AutoTokenizer.from_pretrained(\"uer/roberta-base-finetuned-dianping-chinese\")\n",
    "tokenizer"
   ]
  },
  {
   "cell_type": "code",
   "execution_count": 5,
   "metadata": {},
   "outputs": [
    {
     "data": {
      "text/plain": "('./roberta_tokenizer\\\\tokenizer_config.json',\n './roberta_tokenizer\\\\special_tokens_map.json',\n './roberta_tokenizer\\\\vocab.txt',\n './roberta_tokenizer\\\\added_tokens.json',\n './roberta_tokenizer\\\\tokenizer.json')"
     },
     "execution_count": 5,
     "metadata": {},
     "output_type": "execute_result"
    }
   ],
   "source": [
    "# tokenizer 保存到本地\n",
    "tokenizer.save_pretrained(\"./roberta_tokenizer\")"
   ]
  },
  {
   "cell_type": "code",
   "execution_count": 6,
   "metadata": {},
   "outputs": [
    {
     "data": {
      "text/plain": "BertTokenizerFast(name_or_path='./roberta_tokenizer/', vocab_size=21128, model_max_length=1000000000000000019884624838656, is_fast=True, padding_side='right', truncation_side='right', special_tokens={'unk_token': '[UNK]', 'sep_token': '[SEP]', 'pad_token': '[PAD]', 'cls_token': '[CLS]', 'mask_token': '[MASK]'}, clean_up_tokenization_spaces=True, added_tokens_decoder={\n\t0: AddedToken(\"[PAD]\", rstrip=False, lstrip=False, single_word=False, normalized=False, special=True),\n\t100: AddedToken(\"[UNK]\", rstrip=False, lstrip=False, single_word=False, normalized=False, special=True),\n\t101: AddedToken(\"[CLS]\", rstrip=False, lstrip=False, single_word=False, normalized=False, special=True),\n\t102: AddedToken(\"[SEP]\", rstrip=False, lstrip=False, single_word=False, normalized=False, special=True),\n\t103: AddedToken(\"[MASK]\", rstrip=False, lstrip=False, single_word=False, normalized=False, special=True),\n}\n)"
     },
     "execution_count": 6,
     "metadata": {},
     "output_type": "execute_result"
    }
   ],
   "source": [
    "# 从本地加载tokenizer\n",
    "tokenizer = AutoTokenizer.from_pretrained(\"./roberta_tokenizer/\")\n",
    "tokenizer"
   ]
  },
  {
   "attachments": {},
   "cell_type": "markdown",
   "metadata": {},
   "source": [
    "## Step2 句子分词"
   ]
  },
  {
   "cell_type": "code",
   "execution_count": null,
   "metadata": {},
   "outputs": [],
   "source": [
    "tokens = tokenizer.tokenize(sen)\n",
    "tokens"
   ]
  },
  {
   "attachments": {},
   "cell_type": "markdown",
   "metadata": {},
   "source": [
    "## Step3 查看词典"
   ]
  },
  {
   "cell_type": "code",
   "execution_count": 7,
   "metadata": {},
   "outputs": [
    {
     "data": {
      "text/plain": "{'椅': 3488,\n '285': 10938,\n '##阳': 20402,\n '└': 435,\n '##!': 13317,\n '睽': 4727,\n '##甾': 17572,\n '莺': 5817,\n 'http': 8184,\n '滂': 3992,\n '潭': 4059,\n '##back': 10102,\n '##itor': 12449,\n '##酮': 20050,\n '##bu': 11381,\n '[unused69]': 69,\n '厢': 1334,\n '主': 712,\n '碓': 4812,\n '##腋': 18630,\n '##渎': 16989,\n '##诋': 19460,\n '体': 860,\n '##坠': 14842,\n '[unused44]': 44,\n '葆': 5863,\n '藿': 5977,\n '##泯': 16861,\n '俾': 940,\n '##评': 19454,\n '##缺': 18432,\n '諱': 6325,\n '酵': 6997,\n 'ㄅ': 647,\n 'lonzo': 12688,\n '剖': 1189,\n '讶': 6385,\n '浚': 3852,\n 'い': 536,\n '028': 11842,\n 'q2': 9898,\n '##睜': 17772,\n '霉': 7450,\n '##铠': 20257,\n '##潮': 17117,\n 'br': 8575,\n 'ol': 8972,\n '嘌': 1650,\n '##蝌': 19126,\n 'lp': 11195,\n '迪': 6832,\n '##师': 15417,\n '脾': 5569,\n 'chrome': 8812,\n '準': 3976,\n '##闻': 20376,\n '##ho': 9570,\n '毅': 3675,\n '錶': 7100,\n '1932': 9737,\n '##icon': 12829,\n 'tw': 8351,\n '报': 2845,\n '##祭': 17931,\n 'ah': 10785,\n 'overdope': 9964,\n '##驭': 20774,\n '##娛': 15081,\n '##ニア': 12650,\n '##鸟': 20938,\n '##倬': 14019,\n '##批': 15878,\n '3mm': 12064,\n '##労': 14285,\n '##绫': 18386,\n '摧': 3039,\n 'ferragamo': 9992,\n '症': 4568,\n '的': 4638,\n '##籍': 18150,\n '##约': 18333,\n '楫': 3510,\n '翱': 5433,\n '邈': 6919,\n '﹒': 8002,\n 'wall': 12284,\n '貯': 6520,\n '虽': 6006,\n 'ktv': 8894,\n '稲': 4936,\n '末': 3314,\n '鎗': 7116,\n '##实': 15198,\n '阕': 7334,\n 'しい': 8596,\n '##坦': 14845,\n '##09': 9267,\n '50cm': 11721,\n 'homemesh': 9167,\n '氷': 3718,\n 'した': 8819,\n 'news': 8501,\n '456': 12570,\n '##＜': 21086,\n '##tein': 12508,\n 'universal': 13229,\n '望': 3307,\n '##o': 8167,\n '##棹': 16542,\n 'may': 8480,\n '庾': 2437,\n '##wood': 9730,\n '簪': 5083,\n '攣': 3112,\n '##驗': 20767,\n '##⒋': 13574,\n '##酝': 20043,\n '##蒂': 18938,\n '啬': 1572,\n '490': 10566,\n '挨': 2917,\n '##孫': 15170,\n '瑁': 4439,\n '毀': 3672,\n '##乱': 13801,\n '淙': 3906,\n '##卜': 14358,\n '賣': 6546,\n '##瓯': 17541,\n '##胸': 18598,\n '巔': 2333,\n '审': 2144,\n '[unused7]': 7,\n '捅': 2927,\n '暌': 3262,\n '##則': 14236,\n '蠛': 6108,\n '##濒': 17142,\n '##吾': 14491,\n '249': 10705,\n '##犒': 17359,\n '払': 2804,\n 'pixnetfacebookyahoo': 12047,\n '莓': 5803,\n '##慎': 15765,\n '616': 13226,\n '豫': 6499,\n '##舗': 18713,\n '孚': 2102,\n '##冶': 14163,\n '瀝': 4110,\n '隙': 7395,\n '##play': 10324,\n '##tive': 9741,\n '##論': 19373,\n '隔': 7392,\n '##鴿': 20920,\n '##橄': 16633,\n '##肏': 18549,\n '鹵': 7918,\n '颂': 7563,\n '锯': 7242,\n '舰': 5664,\n '##珍': 17454,\n '诘': 6409,\n '##崴': 15368,\n '##嵘': 15375,\n '##nity': 11347,\n '隆': 7384,\n '拣': 2880,\n '##腔': 18636,\n '雹': 7441,\n 'ra': 12619,\n '事': 752,\n '##蜢': 19116,\n '##✨': 13637,\n 'める': 12368,\n '訓': 6246,\n '##ack': 11360,\n '俠': 927,\n '衝': 6128,\n 'last': 10148,\n 'xperia': 9817,\n '##啾': 14640,\n '##黔': 21005,\n '惕': 2664,\n '##蜒': 19108,\n '藉': 5964,\n '胯': 5535,\n '##判': 14218,\n 'ᅵ': 320,\n '碛': 4816,\n '藍': 5965,\n '##复': 14965,\n '##妞': 15034,\n '##г': 13404,\n '##瀛': 17166,\n '##硐': 17853,\n 'ム': 626,\n '##绪': 18385,\n '##湯': 17023,\n 'я': 259,\n 'sea': 11007,\n '##膠': 18665,\n '##ッフ': 10023,\n '##聘': 18527,\n '酣': 6988,\n '##足': 19696,\n '聊': 5464,\n '叛': 1361,\n '##900': 10589,\n '##荡': 18839,\n 'coco': 8770,\n 'vdc': 10888,\n '瘡': 4604,\n '##溃': 17028,\n 'pt': 10791,\n '賠': 6543,\n '##燭': 17306,\n '噓': 1682,\n '0755': 10960,\n '##媽': 15118,\n '##熱': 17286,\n 'ct': 9162,\n '§': 176,\n 'ᅧ': 309,\n '##urt': 10857,\n '##灏': 17176,\n '##證': 19406,\n '團': 1757,\n '##箴': 18114,\n '##教': 16193,\n '##沁': 16808,\n '##脣': 18617,\n '詭': 6279,\n '##長': 20326,\n '##綑': 18251,\n '##睽': 17784,\n 'cn': 8274,\n '##睾': 17785,\n 'lost': 12593,\n '##盡': 17731,\n '齡': 7972,\n '##乎': 13782,\n '拟': 2877,\n '纏': 5267,\n 'images': 12804,\n '##滤': 17066,\n '纳': 5287,\n '##耙': 18509,\n '勧': 1250,\n '##瑁': 17496,\n '##綜': 18255,\n '##魚': 20854,\n 'cctv': 10099,\n '##ce': 8328,\n '##树': 16466,\n '訂': 6242,\n '##钛': 20217,\n '倪': 960,\n 'creative': 12491,\n '扛': 2806,\n '烛': 4169,\n 'solo': 11659,\n '##肄': 18542,\n '溶': 3988,\n '333': 10745,\n '纯': 5283,\n '鋰': 7084,\n 'aug': 9663,\n '祉': 4858,\n '215': 10082,\n '镀': 7249,\n '##窓': 18024,\n 'にも': 9328,\n '覬': 6218,\n '##６': 9234,\n 'hit': 10295,\n '##艋': 18731,\n '##荒': 18831,\n '琳': 4432,\n '##verse': 11174,\n '##捍': 15989,\n '##ition': 11418,\n '峴': 2293,\n '筆': 5022,\n '##緬': 18285,\n '##喟': 14658,\n '##磐': 17889,\n '##led': 10702,\n '腾': 5596,\n '##辯': 19857,\n '##分': 14203,\n '##咋': 14525,\n '##恳': 15681,\n '2500': 8720,\n '##gence': 12932,\n '愣': 2698,\n 'nata': 10166,\n '##爲': 17321,\n '蠣': 6112,\n 'campaign': 8718,\n '亞': 765,\n '魄': 7790,\n '##詼': 19343,\n '龍': 7983,\n '坐': 1777,\n '##郝': 20007,\n '##唤': 14599,\n '##our': 9832,\n '##亨': 13830,\n '##38': 9137,\n '饨': 7646,\n '##妇': 15024,\n '##观': 19282,\n '##頫': 20587,\n '##箔': 18105,\n '##壹': 14959,\n '苦': 5736,\n '历': 1325,\n '##躍': 19770,\n '疹': 4562,\n '▲topjul': 10572,\n '酮': 6993,\n 'job': 12539,\n '##娓': 15079,\n '燦': 4247,\n '##ちゃん': 12875,\n '糙': 5133,\n '［': 8045,\n '##穫': 18010,\n '琇': 4416,\n '清': 3926,\n '壶': 1901,\n '識': 6352,\n '佼': 885,\n '礡': 4845,\n '##sion': 9224,\n '##桔': 16492,\n '##涸': 16949,\n '欠': 3612,\n '##put': 11300,\n '##讶': 19442,\n 'force': 9019,\n '甥': 4498,\n '##廖': 15502,\n '1954': 9258,\n '鈕': 7046,\n '嘟': 1661,\n '##园': 14793,\n 'daily': 10210,\n '##襬': 19259,\n '世': 686,\n 'dm': 10442,\n '##裤': 19232,\n '##峻': 15352,\n '警': 6356,\n '稜': 4929,\n '##抓': 15888,\n '##ious': 11737,\n '##上': 13734,\n '##cel': 11786,\n '##別': 14219,\n '##烊': 17222,\n 'east': 10990,\n '恃': 2603,\n '嗑': 1622,\n '##綁': 18249,\n '膈': 5599,\n '##歯': 16697,\n '##♣': 13628,\n 'cr': 10951,\n '唳': 1549,\n 'future': 11814,\n '##賤': 19604,\n '瀏': 4104,\n '##臉': 18679,\n '##ㄅ': 13705,\n '麺': 7936,\n '蟻': 6102,\n '谭': 6478,\n '覧': 6216,\n '##伊': 13880,\n '壯': 1897,\n 'ㄞ': 659,\n '乎': 725,\n '觸': 6240,\n '##pm': 9280,\n '347': 12936,\n '穿': 4959,\n '##叔': 14413,\n '旧': 3191,\n '##300': 10097,\n '##wing': 13070,\n '##哈': 14563,\n '##驅': 20762,\n '##ways': 11672,\n '得': 2533,\n '偿': 985,\n '洩': 3824,\n '郁': 6944,\n '##饽': 20718,\n '凋': 1118,\n '##繩': 18313,\n '##╱': 13595,\n '豈': 6488,\n '##霭': 20518,\n '霈': 7449,\n '##筛': 18090,\n '##颁': 20619,\n '溧': 3982,\n '汕': 3730,\n '##綏': 18250,\n 'abs': 8494,\n 'fi': 8533,\n 'kuso': 10881,\n '##mon': 10427,\n 'sr': 12109,\n '##茧': 18810,\n '児': 1049,\n '##鍺': 20165,\n '##胥': 18588,\n '2030': 9787,\n '呆': 1438,\n '燒': 4240,\n '徳': 2545,\n '潮': 4060,\n '##遙': 19948,\n '##認': 19348,\n '##ky': 10218,\n '##孟': 15163,\n '##恿': 15688,\n '贵': 6586,\n '##窥': 18033,\n '##毓': 16739,\n '儂': 1022,\n '##pmlast': 12138,\n '溃': 3971,\n '##lia': 10336,\n '##搅': 16066,\n '##rris': 11818,\n '##57': 9647,\n 'div': 11308,\n '躺': 6720,\n '賤': 6547,\n '税': 4925,\n '##件': 13873,\n '##紛': 18217,\n '嘴': 1673,\n '垛': 1801,\n '1972': 9027,\n '##啃': 14610,\n '缇': 5349,\n '##犍': 17358,\n '疲': 4558,\n '姚': 2001,\n '徉': 2524,\n '誠': 6296,\n '畝': 4524,\n '376': 13118,\n '沧': 3771,\n '##橋': 16635,\n '##炊': 17198,\n '疡': 4550,\n '##矗': 17812,\n '##馄': 20722,\n '##珐': 17456,\n '##礙': 17901,\n '皴': 4652,\n '##ima': 13028,\n '##谕': 19517,\n '雳': 7438,\n '湃': 3955,\n '##驢': 20771,\n 'd2': 11089,\n '##iginal': 13099,\n '宿': 2162,\n '##d': 8168,\n 'ngo': 11770,\n '弼': 2488,\n '駐': 7688,\n '##vas': 12239,\n '鲶': 7839,\n '撈': 3051,\n '##煌': 17259,\n '##赴': 19683,\n '##算': 18107,\n '##刪': 14222,\n 'cms': 11539,\n '##hing': 10716,\n '##盧': 17735,\n '##ston': 10229,\n '椁': 3487,\n '趣': 6637,\n '##报': 15902,\n '據': 3087,\n '##裔': 19224,\n 'than': 13158,\n '矛': 4757,\n '##毡': 16746,\n '##谘': 19519,\n '##候': 14009,\n '澹': 4079,\n '父': 4266,\n '户': 2787,\n '骡': 7751,\n '##奮': 15013,\n '##press': 12300,\n '橙': 3581,\n '##责': 19626,\n '##pro': 10538,\n '##ールを': 10994,\n '##ˋ': 13374,\n '##铆': 20250,\n 'しかし': 12906,\n '冨': 1098,\n '##渠': 16997,\n '##梁': 16505,\n '埋': 1813,\n 'neo': 12169,\n '##暨': 16327,\n '601': 12104,\n '##っ': 12934,\n '##lmer': 12763,\n '##くれる': 11241,\n 'di': 9796,\n '##離': 20488,\n '221': 10118,\n '##奈': 14994,\n '当': 2496,\n '炷': 4155,\n '滴': 4017,\n '剌': 1183,\n '##朕': 16362,\n '睏': 4711,\n 'excel': 8729,\n '##２': 8929,\n '吾': 1434,\n '##唬': 14601,\n 'img': 11412,\n '##圃': 14804,\n '##ne': 8354,\n '##蜓': 19109,\n '瞒': 4737,\n 'author': 12195,\n '瘘': 4600,\n 'energy': 11939,\n '##ラ': 9210,\n '##ified': 13237,\n '##傾': 14062,\n '##磕': 17890,\n '宾': 2161,\n '##stone': 12795,\n '綽': 5212,\n '##鼾': 21023,\n '##爾': 17330,\n 'りの': 10592,\n '欖': 3611,\n '##pus': 12657,\n 'ᅩ': 311,\n '##社': 17909,\n '祝': 4867,\n '礎': 4843,\n '##［': 21089,\n '玳': 4387,\n '罡': 5386,\n '鱼': 7824,\n '蜊': 6049,\n 'ᆼ': 328,\n '澎': 4071,\n '##剪': 14255,\n 'あります': 12737,\n '##绻': 18397,\n '##暗': 16323,\n '1897': 12084,\n 'jennifer': 12652,\n '唧': 1543,\n '##强': 15544,\n '770': 13215,\n '##ort': 10143,\n '楚': 3504,\n '##盏': 17719,\n '316': 10743,\n '##摹': 16101,\n '煅': 4199,\n '楸': 3515,\n '啾': 1583,\n '##room': 12193,\n '##騰': 20759,\n '〜': 530,\n '##∥': 10458,\n 'm8': 10914,\n '訴': 6260,\n '##45': 9039,\n '##繆': 18305,\n 'set': 9738,\n '##暢': 16325,\n 'pad': 10257,\n 'view': 8876,\n 'talk2yam': 8767,\n '##疟': 17606,\n '咛': 1481,\n '今': 791,\n 'x5': 10871,\n '##ute': 9710,\n '験': 7699,\n '##諗': 19374,\n 'powerpoint': 12176,\n '##臻': 18695,\n '##濬': 17151,\n '颈': 7568,\n '##甥': 17555,\n '##】': 13659,\n '嫡': 2072,\n '##辺': 19862,\n '髻': 7775,\n '##棣': 16536,\n '##羚': 18460,\n '##痞': 17636,\n '##遑': 19942,\n '##er': 8196,\n '##n': 8171,\n '萎': 5848,\n '##06': 8839,\n '麵': 7934,\n '韓': 7502,\n 'guestname': 13082,\n '鎔': 7114,\n '##傥': 14052,\n 'ed': 9599,\n '##di': 9172,\n '丙': 688,\n 'island': 10262,\n '259': 10987,\n '##坨': 14846,\n '忠': 2566,\n 'mba': 8980,\n '##皓': 17702,\n '##kg': 8714,\n '澗': 4072,\n '##貰': 19578,\n '甚': 4493,\n 'school': 9467,\n '##稅': 17979,\n '##炯': 17210,\n 'a4': 9367,\n '擷': 3098,\n '✰': 503,\n '徙': 2535,\n '810': 11296,\n '靠': 7479,\n '##逸': 19928,\n '鑊': 7140,\n '芝': 5698,\n '⑴': 415,\n '##八': 14118,\n '##堑': 14890,\n '◠': 476,\n '238': 10308,\n '搭': 3022,\n '4800': 12488,\n '##有': 16357,\n '靓': 7472,\n '##储': 14053,\n '酥': 6989,\n '##迎': 19873,\n '##擘': 16143,\n '增': 1872,\n '序': 2415,\n '」': 520,\n '##〗': 13664,\n '##rity': 12079,\n '##і': 13426,\n '饽': 7661,\n '##女': 15014,\n '312': 10578,\n '开': 2458,\n '##季': 15165,\n '##ith': 11440,\n '##dy': 8771,\n '##猾': 17407,\n '间': 7313,\n '##盛': 17727,\n 'd5': 12987,\n '瞧': 4743,\n '漆': 4024,\n '[unused22]': 22,\n 'ice': 10490,\n '##ct': 8722,\n '##狭': 17382,\n '藐': 5967,\n '336': 12073,\n '##几': 14183,\n '##覚': 19271,\n '##admin': 11454,\n 'gaming': 12444,\n '##鰭': 20871,\n '##档': 16497,\n '麥': 7930,\n '彎': 2494,\n '雕': 7425,\n '##愈': 15746,\n '##粳': 18177,\n '##鈕': 20103,\n '##蒔': 18941,\n '姹': 2011,\n '缝': 5361,\n '梨': 3459,\n '呕': 1445,\n '00kg': 10501,\n '檯': 3598,\n '##团': 14787,\n '緯': 5229,\n '毽': 3692,\n 'apps': 11006,\n '##氓': 16754,\n '##ᅩ': 13005,\n '悅': 2633,\n '##椒': 16549,\n 'resort': 10401,\n '奶': 1959,\n '▲': 464,\n '玻': 4390,\n '尚': 2213,\n '爰': 4262,\n 'basic': 12309,\n '束': 3338,\n '##蒜': 18943,\n '停': 977,\n 'smart': 9353,\n '靥': 7482,\n '馆': 7667,\n '##は': 8319,\n '##怂': 15636,\n '##oy': 12532,\n '夾': 1933,\n '疣': 4551,\n '##琇': 17473,\n 'at': 8243,\n '##桨': 16501,\n '絆': 5176,\n '嚮': 1712,\n 'yumi': 11697,\n '串': 706,\n '##虽': 19063,\n '溢': 3980,\n '##００': 9885,\n '蠹': 6115,\n '##最': 16354,\n '帯': 2377,\n '##躏': 19771,\n '209': 10381,\n '##谔': 19516,\n '筐': 5028,\n '##逢': 19921,\n '[unused27]': 27,\n '】': 524,\n '##賦': 19605,\n '##淒': 16960,\n '蹤': 6697,\n '费': 6589,\n '##辊': 19836,\n '田': 4506,\n '##吝': 14467,\n '蜀': 6043,\n '##尉': 15259,\n 'eye': 11650,\n '候': 952,\n '##cept': 11877,\n '##剛': 14247,\n '湿': 3969,\n '氰': 3715,\n '鏤': 7130,\n '##谧': 19530,\n '##绍': 18362,\n '倩': 959,\n '##圖': 14813,\n '##請': 19370,\n '碚': 4815,\n '##˚': 13378,\n '##伶': 13903,\n '[unused9]': 9,\n '##赎': 19661,\n '##青': 20528,\n 'edition': 10621,\n '257': 11027,\n 'am': 8413,\n '霹': 7465,\n '##ida': 12708,\n 'ko': 10368,\n '##е': 13406,\n '滿': 4021,\n '##鸿': 20953,\n '##クセス': 13311,\n '##召': 14431,\n '##縄': 18291,\n '涣': 3881,\n '鲫': 7836,\n '##冀': 14135,\n 'ァ': 588,\n '##笈': 18064,\n 'thomas': 10010,\n '囤': 1732,\n '##氷': 16775,\n '恚': 2611,\n '学': 2110,\n '##蠣': 19169,\n '##④': 13559,\n 'gg': 10206,\n '嘱': 1671,\n ']': 140,\n '##08': 9153,\n '##贊': 19615,\n '##鳅': 20901,\n '陀': 7351,\n '使': 886,\n '##th': 8414,\n '##貨': 19572,\n '##错': 20288,\n '##次': 16670,\n 'ラ': 635,\n '覚': 6214,\n '涇': 3866,\n '##ba': 8668,\n '##祥': 17929,\n 'donald': 9635,\n '实': 2141,\n '撞': 3058,\n '##崛': 15364,\n '##咕': 14532,\n '##夺': 14989,\n '瘤': 4606,\n '##旨': 16249,\n 'dance': 12371,\n '伝': 834,\n '##珲': 17467,\n '##踐': 19730,\n '##辑': 19839,\n '##溢': 17037,\n '##蒐': 18940,\n '##嗰': 14696,\n '##翰': 18489,\n '搞': 3018,\n '荏': 5772,\n '##vs': 11521,\n 'ちてない': 9804,\n '槻': 3552,\n '##碩': 17877,\n '##蛻': 19098,\n '##莘': 18862,\n 'd': 146,\n '##椹': 16554,\n '##ain': 9347,\n '遴': 6904,\n '罐': 5380,\n '慚': 2712,\n '##纬': 18338,\n 'vision': 10762,\n '##热': 17235,\n '##酯': 20051,\n '##珮': 17466,\n '賬': 6550,\n '猷': 4349,\n '##衛': 19184,\n '##歹': 16703,\n '##絲': 18244,\n 'vim': 11922,\n '##撓': 16112,\n '##凇': 14172,\n '儕': 1028,\n '跳': 6663,\n '簧': 5082,\n '##窍': 18021,\n 'cindy': 9303,\n '媒': 2054,\n '##ell': 9602,\n '禎': 4885,\n '##晃': 16287,\n '豎': 6492,\n '##瘩': 17666,\n '抉': 2827,\n '⑧': 412,\n '穹': 4957,\n '##bc': 9242,\n '隍': 7388,\n '窒': 4966,\n '辘': 6787,\n '鈀': 7041,\n '##忒': 15617,\n '420': 9784,\n '235': 8593,\n '##邋': 19978,\n '郎': 6947,\n '貂': 6503,\n '继': 5326,\n '貔': 6507,\n '聾': 5482,\n '##伟': 13893,\n '##啪': 14627,\n 'netscape': 8691,\n '升': 1285,\n '醫': 7015,\n '折': 2835,\n '惦': 2671,\n '艦': 5677,\n '##☀': 13619,\n '跺': 6667,\n '##削': 14238,\n '1902': 11487,\n '##控': 16028,\n '##九': 13793,\n '##謨': 19401,\n 'best': 9186,\n '##妾': 15046,\n '##荆': 18826,\n 'library': 11616,\n 'cut': 12322,\n '蓬': 5908,\n '##rip': 12332,\n '##学': 15167,\n '負': 6511,\n '##任': 13875,\n '防': 7344,\n '曝': 3284,\n '洼': 3834,\n '檢': 3596,\n '##暸': 16332,\n '佥': 876,\n 'nego': 11181,\n '##祝': 17924,\n '##殇': 16709,\n '榈': 3522,\n '##惮': 15735,\n '##雞': 20487,\n '##告': 14497,\n '扮': 2815,\n '##san': 10978,\n '贏': 6560,\n 'manager': 11039,\n '慶': 2723,\n 'after': 10100,\n '##左': 15397,\n '##喲': 14666,\n '钾': 7185,\n '縄': 5234,\n '##络': 18374,\n 'oxford': 12649,\n '阻': 7349,\n '##厩': 14395,\n '##篓': 18123,\n '°': 180,\n '##戎': 15823,\n '##をお': 11236,\n '##屁': 15287,\n '##佢': 13930,\n 'momo': 8534,\n '彪': 2507,\n '##²': 11699,\n '##勢': 14305,\n '##act': 12183,\n '摟': 3038,\n '漁': 4022,\n '佩': 877,\n '##衡': 19187,\n '##nos': 12782,\n '##＃': 21072,\n '##井': 13816,\n '瀆': 4101,\n '##城': 14871,\n '##per': 9063,\n 'living': 12113,\n '倶': 964,\n '##筊': 18081,\n '蜗': 6054,\n '##黃': 20998,\n '##莫': 18868,\n '拋': 2862,\n '148': 9640,\n '##牒': 17336,\n '##觅': 19284,\n '酩': 6990,\n '獸': 4366,\n 'σ': 226,\n '5v': 10965,\n '阮': 7342,\n '##ent': 8936,\n 'exe': 9464,\n '253': 10221,\n 'gm': 12277,\n '2005': 8232,\n '##珺': 17468,\n '幌': 2389,\n '4500': 9805,\n 'からの': 12498,\n '恺': 2628,\n '亚': 762,\n '1980': 8499,\n '##168': 11090,\n '幽': 2406,\n '[unused30]': 30,\n ...}"
     },
     "execution_count": 7,
     "metadata": {},
     "output_type": "execute_result"
    }
   ],
   "source": [
    "tokenizer.vocab"
   ]
  },
  {
   "cell_type": "code",
   "execution_count": 8,
   "metadata": {},
   "outputs": [
    {
     "data": {
      "text/plain": "21128"
     },
     "execution_count": 8,
     "metadata": {},
     "output_type": "execute_result"
    }
   ],
   "source": [
    "tokenizer.vocab_size"
   ]
  },
  {
   "attachments": {},
   "cell_type": "markdown",
   "metadata": {},
   "source": [
    "## Step4 索引转换"
   ]
  },
  {
   "cell_type": "code",
   "execution_count": null,
   "metadata": {},
   "outputs": [],
   "source": [
    "# 将词序列转换为id序列\n",
    "ids = tokenizer.convert_tokens_to_ids(tokens)\n",
    "ids"
   ]
  },
  {
   "cell_type": "code",
   "execution_count": null,
   "metadata": {},
   "outputs": [],
   "source": [
    "# 将id序列转换为token序列\n",
    "tokens = tokenizer.convert_ids_to_tokens(ids)\n",
    "tokens"
   ]
  },
  {
   "cell_type": "code",
   "execution_count": null,
   "metadata": {},
   "outputs": [],
   "source": [
    "# 将token序列转换为string\n",
    "str_sen = tokenizer.convert_tokens_to_string(tokens)\n",
    "str_sen"
   ]
  },
  {
   "attachments": {},
   "cell_type": "markdown",
   "metadata": {},
   "source": [
    "###  更便捷的实现方式"
   ]
  },
  {
   "cell_type": "code",
   "execution_count": null,
   "metadata": {},
   "outputs": [],
   "source": [
    "# 将字符串转换为id序列，又称之为编码\n",
    "ids = tokenizer.encode(sen, add_special_tokens=True)\n",
    "ids"
   ]
  },
  {
   "cell_type": "code",
   "execution_count": null,
   "metadata": {},
   "outputs": [],
   "source": [
    "# 将id序列转换为字符串，又称之为解码\n",
    "str_sen = tokenizer.decode(ids, skip_special_tokens=False)\n",
    "str_sen"
   ]
  },
  {
   "attachments": {},
   "cell_type": "markdown",
   "metadata": {},
   "source": [
    "## Step5 填充与截断"
   ]
  },
  {
   "cell_type": "code",
   "execution_count": null,
   "metadata": {},
   "outputs": [],
   "source": [
    "# 填充\n",
    "ids = tokenizer.encode(sen, padding=\"max_length\", max_length=15)\n",
    "ids"
   ]
  },
  {
   "cell_type": "code",
   "execution_count": null,
   "metadata": {},
   "outputs": [],
   "source": [
    "# 截断\n",
    "ids = tokenizer.encode(sen, max_length=5, truncation=True)\n",
    "ids"
   ]
  },
  {
   "attachments": {},
   "cell_type": "markdown",
   "metadata": {},
   "source": [
    "## Step6 其他输入部分"
   ]
  },
  {
   "cell_type": "code",
   "execution_count": null,
   "metadata": {},
   "outputs": [],
   "source": [
    "ids = tokenizer.encode(sen, padding=\"max_length\", max_length=15)\n",
    "ids"
   ]
  },
  {
   "cell_type": "code",
   "execution_count": null,
   "metadata": {},
   "outputs": [],
   "source": [
    "attention_mask = [1 if idx != 0 else 0 for idx in ids]\n",
    "token_type_ids = [0] * len(ids)\n",
    "ids, attention_mask, token_type_ids"
   ]
  },
  {
   "attachments": {},
   "cell_type": "markdown",
   "metadata": {},
   "source": [
    "## Step7 快速调用方式"
   ]
  },
  {
   "cell_type": "code",
   "execution_count": null,
   "metadata": {},
   "outputs": [],
   "source": [
    "inputs = tokenizer.encode_plus(sen, padding=\"max_length\", max_length=15)\n",
    "inputs"
   ]
  },
  {
   "cell_type": "code",
   "execution_count": null,
   "metadata": {},
   "outputs": [],
   "source": [
    "inputs = tokenizer(sen, padding=\"max_length\", max_length=15)\n",
    "inputs"
   ]
  },
  {
   "attachments": {},
   "cell_type": "markdown",
   "metadata": {},
   "source": [
    "## Step8 处理batch数据"
   ]
  },
  {
   "cell_type": "code",
   "execution_count": null,
   "metadata": {},
   "outputs": [],
   "source": [
    "sens = [\"弱小的我也有大梦想\",\n",
    "        \"有梦想谁都了不起\",\n",
    "        \"追逐梦想的心，比梦想本身，更可贵\"]\n",
    "res = tokenizer(sens)\n",
    "res"
   ]
  },
  {
   "cell_type": "code",
   "execution_count": null,
   "metadata": {},
   "outputs": [],
   "source": [
    "%%time\n",
    "# 单条循环处理\n",
    "for i in range(1000):\n",
    "    tokenizer(sen)"
   ]
  },
  {
   "cell_type": "code",
   "execution_count": null,
   "metadata": {},
   "outputs": [],
   "source": [
    "%%time\n",
    "# 处理batch数据\n",
    "res = tokenizer([sen] * 1000)"
   ]
  },
  {
   "cell_type": "code",
   "execution_count": null,
   "metadata": {},
   "outputs": [],
   "source": [
    "tokenizer"
   ]
  },
  {
   "attachments": {},
   "cell_type": "markdown",
   "metadata": {},
   "source": [
    "# Fast / Slow Tokenizer"
   ]
  },
  {
   "cell_type": "code",
   "execution_count": null,
   "metadata": {},
   "outputs": [],
   "source": [
    "sen = \"弱小的我也有大Dreaming!\""
   ]
  },
  {
   "cell_type": "code",
   "execution_count": null,
   "metadata": {},
   "outputs": [],
   "source": [
    "fast_tokenizer = AutoTokenizer.from_pretrained(\"uer/roberta-base-finetuned-dianping-chinese\")\n",
    "fast_tokenizer"
   ]
  },
  {
   "cell_type": "code",
   "execution_count": null,
   "metadata": {},
   "outputs": [],
   "source": [
    "slow_tokenizer = AutoTokenizer.from_pretrained(\"uer/roberta-base-finetuned-dianping-chinese\", use_fast=False)\n",
    "slow_tokenizer"
   ]
  },
  {
   "cell_type": "code",
   "execution_count": null,
   "metadata": {},
   "outputs": [],
   "source": [
    "%%time\n",
    "# 单条循环处理\n",
    "for i in range(10000):\n",
    "    fast_tokenizer(sen)"
   ]
  },
  {
   "cell_type": "code",
   "execution_count": null,
   "metadata": {},
   "outputs": [],
   "source": [
    "%%time\n",
    "# 单条循环处理\n",
    "for i in range(10000):\n",
    "    slow_tokenizer(sen)"
   ]
  },
  {
   "cell_type": "code",
   "execution_count": null,
   "metadata": {},
   "outputs": [],
   "source": [
    "%%time\n",
    "# 处理batch数据\n",
    "res = fast_tokenizer([sen] * 10000)"
   ]
  },
  {
   "cell_type": "code",
   "execution_count": null,
   "metadata": {},
   "outputs": [],
   "source": [
    "%%time\n",
    "# 处理batch数据\n",
    "res = slow_tokenizer([sen] * 10000)"
   ]
  },
  {
   "cell_type": "code",
   "execution_count": null,
   "metadata": {},
   "outputs": [],
   "source": [
    "inputs = fast_tokenizer(sen, return_offsets_mapping=True)\n",
    "inputs"
   ]
  },
  {
   "cell_type": "code",
   "execution_count": null,
   "metadata": {},
   "outputs": [],
   "source": [
    "inputs.word_ids()"
   ]
  },
  {
   "cell_type": "code",
   "execution_count": null,
   "metadata": {},
   "outputs": [],
   "source": [
    "inputs = slow_tokenizer(sen, return_offsets_mapping=True)"
   ]
  },
  {
   "attachments": {},
   "cell_type": "markdown",
   "metadata": {},
   "source": [
    "# 特殊Tokenizer的加载"
   ]
  },
  {
   "cell_type": "code",
   "execution_count": null,
   "metadata": {},
   "outputs": [],
   "source": [
    "from transformers import AutoTokenizer"
   ]
  },
  {
   "cell_type": "code",
   "execution_count": null,
   "metadata": {},
   "outputs": [],
   "source": [
    "# 新版本的transformers（>4.34），加载 THUDM/chatglm 会报错，因此这里替换为了天宫的模型\n",
    "tokenizer = AutoTokenizer.from_pretrained(\"Skywork/Skywork-13B-base\", trust_remote_code=True)\n",
    "tokenizer"
   ]
  },
  {
   "cell_type": "code",
   "execution_count": null,
   "metadata": {},
   "outputs": [],
   "source": [
    "tokenizer.save_pretrained(\"skywork_tokenizer\")"
   ]
  },
  {
   "cell_type": "code",
   "execution_count": null,
   "metadata": {},
   "outputs": [],
   "source": [
    "tokenizer = AutoTokenizer.from_pretrained(\"skywork_tokenizer\", trust_remote_code=True)"
   ]
  },
  {
   "cell_type": "code",
   "execution_count": null,
   "metadata": {},
   "outputs": [],
   "source": [
    "tokenizer.decode(tokenizer.encode(sen))"
   ]
  },
  {
   "cell_type": "code",
   "execution_count": null,
   "metadata": {},
   "outputs": [],
   "source": []
  }
 ],
 "metadata": {
  "kernelspec": {
   "display_name": "transformers",
   "language": "python",
   "name": "python3"
  },
  "language_info": {
   "codemirror_mode": {
    "name": "ipython",
    "version": 3
   },
   "file_extension": ".py",
   "mimetype": "text/x-python",
   "name": "python",
   "nbconvert_exporter": "python",
   "pygments_lexer": "ipython3",
   "version": "3.9.16"
  },
  "orig_nbformat": 4
 },
 "nbformat": 4,
 "nbformat_minor": 2
}
